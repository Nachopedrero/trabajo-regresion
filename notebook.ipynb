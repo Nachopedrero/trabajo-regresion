{
 "cells": [
  {
   "cell_type": "code",
   "execution_count": 150,
   "metadata": {},
   "outputs": [
    {
     "name": "stdout",
     "output_type": "stream",
     "text": [
      "           id        date  bedrooms  bathrooms  sqft_living  sqft_lot  floors  \\\n",
      "0  7129300520    10/13/14         3       1.00         1180      5650     1.0   \n",
      "1  6414100192  12/09/2014         3       2.25         2570      7242     2.0   \n",
      "2  5631500400     2/25/15         2       1.00          770     10000     1.0   \n",
      "3  2487200875  12/09/2014         4       3.00         1960      5000     1.0   \n",
      "4  1954400510     2/18/15         3       2.00         1680      8080     1.0   \n",
      "\n",
      "   waterfront  view  condition  ...  sqft_above  sqft_basement  yr_built  \\\n",
      "0           0     0          3  ...        1180              0      1955   \n",
      "1           0     0          3  ...        2170            400      1951   \n",
      "2           0     0          3  ...         770              0      1933   \n",
      "3           0     0          5  ...        1050            910      1965   \n",
      "4           0     0          3  ...        1680              0      1987   \n",
      "\n",
      "   yr_renovated  zipcode      lat     long  sqft_living15  sqft_lot15   price  \n",
      "0             0    98178  47.5112 -122.257           1340        5650  221900  \n",
      "1          1991    98125  47.7210 -122.319           1690        7639  538000  \n",
      "2             0    98028  47.7379 -122.233           2720        8062  180000  \n",
      "3             0    98136  47.5208 -122.393           1360        5000  604000  \n",
      "4             0    98074  47.6168 -122.045           1800        7503  510000  \n",
      "\n",
      "[5 rows x 21 columns]\n"
     ]
    }
   ],
   "source": [
    "\n",
    "import pandas as pd\n",
    "df = pd.read_csv('regression_data.csv', delimiter=\";\")\n",
    "print(df.head())"
   ]
  },
  {
   "cell_type": "code",
   "execution_count": 151,
   "metadata": {},
   "outputs": [],
   "source": [
    "\n",
    "\n",
    "df.drop(['date'],axis=1, inplace = True )\n"
   ]
  },
  {
   "cell_type": "code",
   "execution_count": 152,
   "metadata": {},
   "outputs": [
    {
     "name": "stdout",
     "output_type": "stream",
     "text": [
      "21597\n"
     ]
    }
   ],
   "source": [
    "\n",
    "print(df.shape[0])\n"
   ]
  },
  {
   "cell_type": "code",
   "execution_count": 153,
   "metadata": {},
   "outputs": [
    {
     "name": "stdout",
     "output_type": "stream",
     "text": [
      "[ 3  2  4  5  1  6  7  8  9 11 10 33]\n",
      "[1.   2.25 3.   2.   4.5  1.5  2.5  1.75 2.75 3.25 4.   3.5  0.75 4.75\n",
      " 5.   4.25 3.75 1.25 5.25 6.   0.5  5.5  6.75 5.75 8.   7.5  7.75 6.25\n",
      " 6.5 ]\n",
      "[1.  2.  1.5 3.  2.5 3.5]\n",
      "[ 7  6  8 11  9  5 10 12  4  3 13]\n",
      "[3 5 4 1 2]\n"
     ]
    }
   ],
   "source": [
    "print(df['bedrooms'].unique())\n",
    "print(df['bathrooms'].unique())\n",
    "print(df['floors'].unique())\n",
    "\n",
    "print(df['grade'].unique())\n",
    "print(df['condition'].unique())\n"
   ]
  },
  {
   "cell_type": "code",
   "execution_count": 154,
   "metadata": {},
   "outputs": [
    {
     "name": "stdout",
     "output_type": "stream",
     "text": [
      "7245    6762700020\n",
      "3910    9808700762\n",
      "9245    9208900037\n",
      "4407    2470100110\n",
      "1446    8907500070\n",
      "1313    7558700030\n",
      "1162    1247600105\n",
      "8085    1924059029\n",
      "2624    7738500731\n",
      "8629    3835500195\n",
      "Name: id, dtype: int64\n"
     ]
    }
   ],
   "source": [
    "\n",
    "df.sort_values(by=['price'], ascending=False, inplace=True)\n",
    "\n",
    "print(df['id'].head(10))\n",
    "\n"
   ]
  },
  {
   "cell_type": "code",
   "execution_count": 155,
   "metadata": {},
   "outputs": [
    {
     "name": "stdout",
     "output_type": "stream",
     "text": [
      "540296.5735055795\n"
     ]
    }
   ],
   "source": [
    "\n",
    "\n",
    "print(df['price'].mean())\n",
    "\n",
    "\n",
    "\n",
    "\n",
    "\n",
    "\n",
    "\n"
   ]
  },
  {
   "cell_type": "code",
   "execution_count": 156,
   "metadata": {},
   "outputs": [
    {
     "name": "stdout",
     "output_type": "stream",
     "text": [
      "-0.14689580091008822\n"
     ]
    }
   ],
   "source": [
    "df.groupby(\"bedrooms\").mean()[\"price\"]\n",
    "df.groupby(\"bedrooms\").mean()[\"sqft_living\"]\n",
    "\n",
    "\n",
    "import matplotlib.pyplot as plt\n",
    "\n",
    "\n",
    "df.corr()\n",
    "\n",
    "print(df['grade'].corr(df['condition']))\n",
    "\n",
    "\n",
    "\n",
    "\n",
    "\n",
    "\n",
    "\n",
    "\n",
    "\n"
   ]
  },
  {
   "cell_type": "code",
   "execution_count": 157,
   "metadata": {},
   "outputs": [
    {
     "data": {
      "text/plain": [
       "waterfront\n",
       "0    5.317623e+05\n",
       "1    1.662524e+06\n",
       "Name: price, dtype: float64"
      ]
     },
     "execution_count": 157,
     "metadata": {},
     "output_type": "execute_result"
    }
   ],
   "source": [
    "df.groupby(\"waterfront\").mean()[\"price\"]"
   ]
  },
  {
   "cell_type": "code",
   "execution_count": 158,
   "metadata": {},
   "outputs": [
    {
     "data": {
      "text/plain": [
       "bedrooms\n",
       "1      888.153061\n",
       "2     1239.752899\n",
       "3     1805.837235\n",
       "4     2554.649666\n",
       "5     3047.545284\n",
       "6     3284.341912\n",
       "7     3974.210526\n",
       "8     3800.000000\n",
       "9     3775.000000\n",
       "10    3706.666667\n",
       "11    3000.000000\n",
       "33    1620.000000\n",
       "Name: sqft_living, dtype: float64"
      ]
     },
     "execution_count": 158,
     "metadata": {},
     "output_type": "execute_result"
    }
   ],
   "source": [
    "df.groupby(\"bedrooms\").mean()[\"sqft_living\"]"
   ]
  },
  {
   "cell_type": "code",
   "execution_count": 159,
   "metadata": {},
   "outputs": [
    {
     "data": {
      "text/plain": [
       "bedrooms\n",
       "1     3.182395e+05\n",
       "2     4.013877e+05\n",
       "3     4.662766e+05\n",
       "4     6.355647e+05\n",
       "5     7.868741e+05\n",
       "6     8.258535e+05\n",
       "7     9.514478e+05\n",
       "8     1.105077e+06\n",
       "9     8.939998e+05\n",
       "10    8.200000e+05\n",
       "11    5.200000e+05\n",
       "33    6.400000e+05\n",
       "Name: price, dtype: float64"
      ]
     },
     "execution_count": 159,
     "metadata": {},
     "output_type": "execute_result"
    }
   ],
   "source": [
    "df.groupby(\"bedrooms\").mean()[\"price\"]"
   ]
  },
  {
   "cell_type": "code",
   "execution_count": 160,
   "metadata": {},
   "outputs": [
    {
     "data": {
      "text/plain": [
       "bathrooms\n",
       "0.50       4\n",
       "0.75      71\n",
       "1.00    3851\n",
       "1.25       9\n",
       "1.50    1445\n",
       "1.75    3048\n",
       "2.00    1930\n",
       "2.25    2047\n",
       "2.50    5377\n",
       "2.75    1185\n",
       "3.00     753\n",
       "3.25     589\n",
       "3.50     731\n",
       "3.75     155\n",
       "4.00     136\n",
       "4.25      79\n",
       "4.50     100\n",
       "4.75      23\n",
       "5.00      21\n",
       "5.25      13\n",
       "5.50      10\n",
       "5.75       4\n",
       "6.00       6\n",
       "6.25       2\n",
       "6.50       2\n",
       "6.75       2\n",
       "7.50       1\n",
       "7.75       1\n",
       "8.00       2\n",
       "Name: price, dtype: int64"
      ]
     },
     "execution_count": 160,
     "metadata": {},
     "output_type": "execute_result"
    }
   ],
   "source": [
    "# Get the number of houses in each category\n",
    "\n",
    "df.groupby(\"bathrooms\").count()[\"price\"]\n",
    "\n"
   ]
  },
  {
   "cell_type": "code",
   "execution_count": 161,
   "metadata": {},
   "outputs": [
    {
     "data": {
      "text/plain": [
       "bedrooms\n",
       "1      196\n",
       "2     2760\n",
       "3     9824\n",
       "4     6882\n",
       "5     1601\n",
       "6      272\n",
       "7       38\n",
       "8       13\n",
       "9        6\n",
       "10       3\n",
       "11       1\n",
       "33       1\n",
       "Name: price, dtype: int64"
      ]
     },
     "execution_count": 161,
     "metadata": {},
     "output_type": "execute_result"
    }
   ],
   "source": [
    "df.groupby(\"bedrooms\").count()[\"price\"]"
   ]
  },
  {
   "cell_type": "code",
   "execution_count": 162,
   "metadata": {},
   "outputs": [
    {
     "data": {
      "text/plain": [
       "sqft_living\n",
       "370      1\n",
       "380      1\n",
       "390      1\n",
       "410      1\n",
       "420      2\n",
       "        ..\n",
       "9640     1\n",
       "9890     1\n",
       "10040    1\n",
       "12050    1\n",
       "13540    1\n",
       "Name: price, Length: 1034, dtype: int64"
      ]
     },
     "execution_count": 162,
     "metadata": {},
     "output_type": "execute_result"
    }
   ],
   "source": [
    "df.groupby(\"sqft_living\").count()[\"price\"]"
   ]
  },
  {
   "cell_type": "code",
   "execution_count": 163,
   "metadata": {},
   "outputs": [
    {
     "data": {
      "text/plain": [
       "floors\n",
       "1.0    10673\n",
       "1.5     1910\n",
       "2.0     8235\n",
       "2.5      161\n",
       "3.0      611\n",
       "3.5        7\n",
       "Name: price, dtype: int64"
      ]
     },
     "execution_count": 163,
     "metadata": {},
     "output_type": "execute_result"
    }
   ],
   "source": [
    "df.groupby(\"floors\").count()[\"price\"]"
   ]
  },
  {
   "cell_type": "code",
   "execution_count": 164,
   "metadata": {},
   "outputs": [
    {
     "data": {
      "text/plain": [
       "grade\n",
       "3        1\n",
       "4       27\n",
       "5      242\n",
       "6     2038\n",
       "7     8974\n",
       "8     6065\n",
       "9     2615\n",
       "10    1134\n",
       "11     399\n",
       "12      89\n",
       "13      13\n",
       "Name: price, dtype: int64"
      ]
     },
     "execution_count": 164,
     "metadata": {},
     "output_type": "execute_result"
    }
   ],
   "source": [
    "df.groupby(\"grade\").count()[\"price\"]"
   ]
  },
  {
   "cell_type": "code",
   "execution_count": 165,
   "metadata": {},
   "outputs": [
    {
     "data": {
      "text/plain": [
       "view\n",
       "0    19475\n",
       "1      332\n",
       "2      961\n",
       "3      510\n",
       "4      319\n",
       "Name: price, dtype: int64"
      ]
     },
     "execution_count": 165,
     "metadata": {},
     "output_type": "execute_result"
    }
   ],
   "source": [
    "df.groupby(\"view\").count()[\"price\"]"
   ]
  },
  {
   "cell_type": "code",
   "execution_count": 166,
   "metadata": {},
   "outputs": [
    {
     "data": {
      "text/plain": [
       "condition\n",
       "1       29\n",
       "2      170\n",
       "3    14020\n",
       "4     5677\n",
       "5     1701\n",
       "Name: price, dtype: int64"
      ]
     },
     "execution_count": 166,
     "metadata": {},
     "output_type": "execute_result"
    }
   ],
   "source": [
    "df.groupby(\"condition\").count()[\"price\"]"
   ]
  },
  {
   "cell_type": "code",
   "execution_count": 167,
   "metadata": {},
   "outputs": [
    {
     "data": {
      "text/plain": [
       "waterfront\n",
       "0    21434\n",
       "1      163\n",
       "Name: price, dtype: int64"
      ]
     },
     "execution_count": 167,
     "metadata": {},
     "output_type": "execute_result"
    }
   ],
   "source": [
    "df.groupby(\"waterfront\").count()['price']"
   ]
  },
  {
   "cell_type": "code",
   "execution_count": null,
   "metadata": {},
   "outputs": [],
   "source": []
  },
  {
   "cell_type": "code",
   "execution_count": 168,
   "metadata": {},
   "outputs": [
    {
     "data": {
      "text/plain": [
       "view\n",
       "0    19475\n",
       "1      332\n",
       "2      961\n",
       "3      510\n",
       "4      319\n",
       "Name: price, dtype: int64"
      ]
     },
     "execution_count": 168,
     "metadata": {},
     "output_type": "execute_result"
    }
   ],
   "source": [
    "df.groupby(\"view\").count()[\"price\"]"
   ]
  },
  {
   "cell_type": "code",
   "execution_count": 169,
   "metadata": {},
   "outputs": [
    {
     "data": {
      "text/plain": [
       "long\n",
       "-122.519    1\n",
       "-122.515    1\n",
       "-122.514    1\n",
       "-122.512    1\n",
       "-122.511    2\n",
       "           ..\n",
       "-121.325    1\n",
       "-121.321    1\n",
       "-121.319    1\n",
       "-121.316    1\n",
       "-121.315    2\n",
       "Name: price, Length: 751, dtype: int64"
      ]
     },
     "execution_count": 169,
     "metadata": {},
     "output_type": "execute_result"
    }
   ],
   "source": [
    "df.groupby(\"long\").count()[\"price\"]"
   ]
  },
  {
   "cell_type": "code",
   "execution_count": 170,
   "metadata": {},
   "outputs": [
    {
     "data": {
      "text/plain": [
       "lat\n",
       "47.1559    1\n",
       "47.1593    1\n",
       "47.1622    1\n",
       "47.1647    1\n",
       "47.1764    1\n",
       "          ..\n",
       "47.7771    2\n",
       "47.7772    3\n",
       "47.7774    1\n",
       "47.7775    3\n",
       "47.7776    3\n",
       "Name: price, Length: 5033, dtype: int64"
      ]
     },
     "execution_count": 170,
     "metadata": {},
     "output_type": "execute_result"
    }
   ],
   "source": [
    "df.groupby(\"lat\").count()[\"price\"]"
   ]
  },
  {
   "cell_type": "code",
   "execution_count": 171,
   "metadata": {},
   "outputs": [
    {
     "data": {
      "text/plain": [
       "sqft_living15\n",
       "399     1\n",
       "460     2\n",
       "620     2\n",
       "670     1\n",
       "690     2\n",
       "       ..\n",
       "5600    1\n",
       "5610    1\n",
       "5790    6\n",
       "6110    1\n",
       "6210    1\n",
       "Name: price, Length: 777, dtype: int64"
      ]
     },
     "execution_count": 171,
     "metadata": {},
     "output_type": "execute_result"
    }
   ],
   "source": [
    "df.groupby(\"sqft_living15\").count()[\"price\"]"
   ]
  },
  {
   "cell_type": "code",
   "execution_count": 172,
   "metadata": {},
   "outputs": [
    {
     "data": {
      "text/plain": [
       "sqft_lot15\n",
       "651       1\n",
       "659       1\n",
       "660       1\n",
       "748       2\n",
       "750       4\n",
       "         ..\n",
       "434728    1\n",
       "438213    1\n",
       "560617    1\n",
       "858132    1\n",
       "871200    1\n",
       "Name: price, Length: 8682, dtype: int64"
      ]
     },
     "execution_count": 172,
     "metadata": {},
     "output_type": "execute_result"
    }
   ],
   "source": [
    "df.groupby(\"sqft_lot15\").count()[\"price\"]\n"
   ]
  },
  {
   "cell_type": "code",
   "execution_count": 173,
   "metadata": {},
   "outputs": [
    {
     "data": {
      "text/plain": [
       "sqft_above\n",
       "370     1\n",
       "380     1\n",
       "390     1\n",
       "410     1\n",
       "420     2\n",
       "       ..\n",
       "7880    1\n",
       "8020    1\n",
       "8570    1\n",
       "8860    1\n",
       "9410    1\n",
       "Name: price, Length: 942, dtype: int64"
      ]
     },
     "execution_count": 173,
     "metadata": {},
     "output_type": "execute_result"
    }
   ],
   "source": [
    "df.groupby(\"sqft_above\").count()[\"price\"]"
   ]
  },
  {
   "cell_type": "code",
   "execution_count": 174,
   "metadata": {},
   "outputs": [
    {
     "data": {
      "text/plain": [
       "sqft_basement\n",
       "0       13110\n",
       "10          2\n",
       "20          1\n",
       "40          4\n",
       "50         11\n",
       "        ...  \n",
       "3260        1\n",
       "3480        1\n",
       "3500        1\n",
       "4130        1\n",
       "4820        1\n",
       "Name: price, Length: 306, dtype: int64"
      ]
     },
     "execution_count": 174,
     "metadata": {},
     "output_type": "execute_result"
    }
   ],
   "source": [
    "df.groupby(\"sqft_basement\").count()[\"price\"]"
   ]
  },
  {
   "cell_type": "code",
   "execution_count": 175,
   "metadata": {},
   "outputs": [
    {
     "data": {
      "text/plain": [
       "yr_built\n",
       "1900     87\n",
       "1901     29\n",
       "1902     27\n",
       "1903     46\n",
       "1904     45\n",
       "       ... \n",
       "2011    130\n",
       "2012    170\n",
       "2013    201\n",
       "2014    559\n",
       "2015     38\n",
       "Name: price, Length: 116, dtype: int64"
      ]
     },
     "execution_count": 175,
     "metadata": {},
     "output_type": "execute_result"
    }
   ],
   "source": [
    "df.groupby(\"yr_built\").count()[\"price\"]"
   ]
  },
  {
   "cell_type": "code",
   "execution_count": 176,
   "metadata": {},
   "outputs": [
    {
     "data": {
      "text/plain": [
       "yr_renovated\n",
       "0       20683\n",
       "1934        1\n",
       "1940        2\n",
       "1944        1\n",
       "1945        3\n",
       "        ...  \n",
       "2011       13\n",
       "2012       11\n",
       "2013       37\n",
       "2014       91\n",
       "2015       16\n",
       "Name: price, Length: 70, dtype: int64"
      ]
     },
     "execution_count": 176,
     "metadata": {},
     "output_type": "execute_result"
    }
   ],
   "source": [
    "df.groupby(\"yr_renovated\").count()[\"price\"]"
   ]
  },
  {
   "cell_type": "code",
   "execution_count": 177,
   "metadata": {},
   "outputs": [
    {
     "data": {
      "text/plain": [
       "zipcode\n",
       "98001    361\n",
       "98002    199\n",
       "98003    280\n",
       "98004    317\n",
       "98005    168\n",
       "        ... \n",
       "98177    255\n",
       "98178    262\n",
       "98188    136\n",
       "98198    280\n",
       "98199    317\n",
       "Name: price, Length: 70, dtype: int64"
      ]
     },
     "execution_count": 177,
     "metadata": {},
     "output_type": "execute_result"
    }
   ],
   "source": [
    "df.groupby(\"zipcode\").count()[\"price\"]"
   ]
  },
  {
   "cell_type": "code",
   "execution_count": 178,
   "metadata": {},
   "outputs": [
    {
     "data": {
      "text/html": [
       "<div>\n",
       "<style scoped>\n",
       "    .dataframe tbody tr th:only-of-type {\n",
       "        vertical-align: middle;\n",
       "    }\n",
       "\n",
       "    .dataframe tbody tr th {\n",
       "        vertical-align: top;\n",
       "    }\n",
       "\n",
       "    .dataframe thead th {\n",
       "        text-align: right;\n",
       "    }\n",
       "</style>\n",
       "<table border=\"1\" class=\"dataframe\">\n",
       "  <thead>\n",
       "    <tr style=\"text-align: right;\">\n",
       "      <th></th>\n",
       "      <th>id</th>\n",
       "      <th>bedrooms</th>\n",
       "      <th>bathrooms</th>\n",
       "      <th>sqft_living</th>\n",
       "      <th>sqft_lot</th>\n",
       "      <th>floors</th>\n",
       "      <th>waterfront</th>\n",
       "      <th>view</th>\n",
       "      <th>condition</th>\n",
       "      <th>grade</th>\n",
       "      <th>sqft_above</th>\n",
       "      <th>sqft_basement</th>\n",
       "      <th>yr_built</th>\n",
       "      <th>yr_renovated</th>\n",
       "      <th>zipcode</th>\n",
       "      <th>lat</th>\n",
       "      <th>long</th>\n",
       "      <th>sqft_living15</th>\n",
       "      <th>sqft_lot15</th>\n",
       "      <th>price</th>\n",
       "    </tr>\n",
       "  </thead>\n",
       "  <tbody>\n",
       "  </tbody>\n",
       "</table>\n",
       "</div>"
      ],
      "text/plain": [
       "Empty DataFrame\n",
       "Columns: [id, bedrooms, bathrooms, sqft_living, sqft_lot, floors, waterfront, view, condition, grade, sqft_above, sqft_basement, yr_built, yr_renovated, zipcode, lat, long, sqft_living15, sqft_lot15, price]\n",
       "Index: []"
      ]
     },
     "execution_count": 178,
     "metadata": {},
     "output_type": "execute_result"
    }
   ],
   "source": [
    "\n",
    "df[((df['bedrooms'] == 3) | (df['bedrooms'] == 4)) & (df['bathrooms'] > 3) & (df['floors'] == 1) & (df['waterfront'] == 0) & (df['condition'] >= 3) & (df['grade'] >= 5) & (df['price'] < 300000)]\n",
    "       \n",
    "\n",
    "\n",
    "\n",
    "\n",
    "\n",
    "\n",
    "\n",
    "\n",
    "\n"
   ]
  },
  {
   "cell_type": "code",
   "execution_count": 179,
   "metadata": {},
   "outputs": [
    {
     "data": {
      "text/html": [
       "<div>\n",
       "<style scoped>\n",
       "    .dataframe tbody tr th:only-of-type {\n",
       "        vertical-align: middle;\n",
       "    }\n",
       "\n",
       "    .dataframe tbody tr th {\n",
       "        vertical-align: top;\n",
       "    }\n",
       "\n",
       "    .dataframe thead th {\n",
       "        text-align: right;\n",
       "    }\n",
       "</style>\n",
       "<table border=\"1\" class=\"dataframe\">\n",
       "  <thead>\n",
       "    <tr style=\"text-align: right;\">\n",
       "      <th></th>\n",
       "      <th>id</th>\n",
       "      <th>bedrooms</th>\n",
       "      <th>bathrooms</th>\n",
       "      <th>sqft_living</th>\n",
       "      <th>sqft_lot</th>\n",
       "      <th>floors</th>\n",
       "      <th>waterfront</th>\n",
       "      <th>view</th>\n",
       "      <th>condition</th>\n",
       "      <th>grade</th>\n",
       "      <th>sqft_above</th>\n",
       "      <th>sqft_basement</th>\n",
       "      <th>yr_built</th>\n",
       "      <th>yr_renovated</th>\n",
       "      <th>zipcode</th>\n",
       "      <th>lat</th>\n",
       "      <th>long</th>\n",
       "      <th>sqft_living15</th>\n",
       "      <th>sqft_lot15</th>\n",
       "      <th>price</th>\n",
       "    </tr>\n",
       "  </thead>\n",
       "  <tbody>\n",
       "    <tr>\n",
       "      <th>7245</th>\n",
       "      <td>6762700020</td>\n",
       "      <td>6</td>\n",
       "      <td>8.00</td>\n",
       "      <td>12050</td>\n",
       "      <td>27600</td>\n",
       "      <td>2.5</td>\n",
       "      <td>0</td>\n",
       "      <td>3</td>\n",
       "      <td>4</td>\n",
       "      <td>13</td>\n",
       "      <td>8570</td>\n",
       "      <td>3480</td>\n",
       "      <td>1910</td>\n",
       "      <td>1987</td>\n",
       "      <td>98102</td>\n",
       "      <td>47.6298</td>\n",
       "      <td>-122.323</td>\n",
       "      <td>3940</td>\n",
       "      <td>8800</td>\n",
       "      <td>7700000</td>\n",
       "    </tr>\n",
       "    <tr>\n",
       "      <th>3910</th>\n",
       "      <td>9808700762</td>\n",
       "      <td>5</td>\n",
       "      <td>4.50</td>\n",
       "      <td>10040</td>\n",
       "      <td>37325</td>\n",
       "      <td>2.0</td>\n",
       "      <td>1</td>\n",
       "      <td>2</td>\n",
       "      <td>3</td>\n",
       "      <td>11</td>\n",
       "      <td>7680</td>\n",
       "      <td>2360</td>\n",
       "      <td>1940</td>\n",
       "      <td>2001</td>\n",
       "      <td>98004</td>\n",
       "      <td>47.6500</td>\n",
       "      <td>-122.214</td>\n",
       "      <td>3930</td>\n",
       "      <td>25449</td>\n",
       "      <td>7060000</td>\n",
       "    </tr>\n",
       "    <tr>\n",
       "      <th>9245</th>\n",
       "      <td>9208900037</td>\n",
       "      <td>6</td>\n",
       "      <td>7.75</td>\n",
       "      <td>9890</td>\n",
       "      <td>31374</td>\n",
       "      <td>2.0</td>\n",
       "      <td>0</td>\n",
       "      <td>4</td>\n",
       "      <td>3</td>\n",
       "      <td>13</td>\n",
       "      <td>8860</td>\n",
       "      <td>1030</td>\n",
       "      <td>2001</td>\n",
       "      <td>0</td>\n",
       "      <td>98039</td>\n",
       "      <td>47.6305</td>\n",
       "      <td>-122.240</td>\n",
       "      <td>4540</td>\n",
       "      <td>42730</td>\n",
       "      <td>6890000</td>\n",
       "    </tr>\n",
       "    <tr>\n",
       "      <th>4407</th>\n",
       "      <td>2470100110</td>\n",
       "      <td>5</td>\n",
       "      <td>5.75</td>\n",
       "      <td>9200</td>\n",
       "      <td>35069</td>\n",
       "      <td>2.0</td>\n",
       "      <td>0</td>\n",
       "      <td>0</td>\n",
       "      <td>3</td>\n",
       "      <td>13</td>\n",
       "      <td>6200</td>\n",
       "      <td>3000</td>\n",
       "      <td>2001</td>\n",
       "      <td>0</td>\n",
       "      <td>98039</td>\n",
       "      <td>47.6289</td>\n",
       "      <td>-122.233</td>\n",
       "      <td>3560</td>\n",
       "      <td>24345</td>\n",
       "      <td>5570000</td>\n",
       "    </tr>\n",
       "    <tr>\n",
       "      <th>1446</th>\n",
       "      <td>8907500070</td>\n",
       "      <td>5</td>\n",
       "      <td>5.00</td>\n",
       "      <td>8000</td>\n",
       "      <td>23985</td>\n",
       "      <td>2.0</td>\n",
       "      <td>0</td>\n",
       "      <td>4</td>\n",
       "      <td>3</td>\n",
       "      <td>12</td>\n",
       "      <td>6720</td>\n",
       "      <td>1280</td>\n",
       "      <td>2009</td>\n",
       "      <td>0</td>\n",
       "      <td>98004</td>\n",
       "      <td>47.6232</td>\n",
       "      <td>-122.220</td>\n",
       "      <td>4600</td>\n",
       "      <td>21750</td>\n",
       "      <td>5350000</td>\n",
       "    </tr>\n",
       "    <tr>\n",
       "      <th>...</th>\n",
       "      <td>...</td>\n",
       "      <td>...</td>\n",
       "      <td>...</td>\n",
       "      <td>...</td>\n",
       "      <td>...</td>\n",
       "      <td>...</td>\n",
       "      <td>...</td>\n",
       "      <td>...</td>\n",
       "      <td>...</td>\n",
       "      <td>...</td>\n",
       "      <td>...</td>\n",
       "      <td>...</td>\n",
       "      <td>...</td>\n",
       "      <td>...</td>\n",
       "      <td>...</td>\n",
       "      <td>...</td>\n",
       "      <td>...</td>\n",
       "      <td>...</td>\n",
       "      <td>...</td>\n",
       "      <td>...</td>\n",
       "    </tr>\n",
       "    <tr>\n",
       "      <th>15546</th>\n",
       "      <td>1326059182</td>\n",
       "      <td>5</td>\n",
       "      <td>3.25</td>\n",
       "      <td>5600</td>\n",
       "      <td>107157</td>\n",
       "      <td>2.0</td>\n",
       "      <td>0</td>\n",
       "      <td>0</td>\n",
       "      <td>3</td>\n",
       "      <td>10</td>\n",
       "      <td>3440</td>\n",
       "      <td>2160</td>\n",
       "      <td>1988</td>\n",
       "      <td>0</td>\n",
       "      <td>98072</td>\n",
       "      <td>47.7341</td>\n",
       "      <td>-122.102</td>\n",
       "      <td>3470</td>\n",
       "      <td>75794</td>\n",
       "      <td>1090000</td>\n",
       "    </tr>\n",
       "    <tr>\n",
       "      <th>5060</th>\n",
       "      <td>4385700660</td>\n",
       "      <td>3</td>\n",
       "      <td>1.50</td>\n",
       "      <td>2560</td>\n",
       "      <td>4000</td>\n",
       "      <td>1.5</td>\n",
       "      <td>0</td>\n",
       "      <td>0</td>\n",
       "      <td>5</td>\n",
       "      <td>8</td>\n",
       "      <td>1660</td>\n",
       "      <td>900</td>\n",
       "      <td>1927</td>\n",
       "      <td>0</td>\n",
       "      <td>98112</td>\n",
       "      <td>47.6384</td>\n",
       "      <td>-122.279</td>\n",
       "      <td>2560</td>\n",
       "      <td>4000</td>\n",
       "      <td>1090000</td>\n",
       "    </tr>\n",
       "    <tr>\n",
       "      <th>12549</th>\n",
       "      <td>3760500730</td>\n",
       "      <td>4</td>\n",
       "      <td>2.75</td>\n",
       "      <td>3010</td>\n",
       "      <td>10830</td>\n",
       "      <td>2.0</td>\n",
       "      <td>0</td>\n",
       "      <td>3</td>\n",
       "      <td>4</td>\n",
       "      <td>9</td>\n",
       "      <td>3010</td>\n",
       "      <td>0</td>\n",
       "      <td>1980</td>\n",
       "      <td>0</td>\n",
       "      <td>98034</td>\n",
       "      <td>47.7005</td>\n",
       "      <td>-122.232</td>\n",
       "      <td>3010</td>\n",
       "      <td>10650</td>\n",
       "      <td>1090000</td>\n",
       "    </tr>\n",
       "    <tr>\n",
       "      <th>8664</th>\n",
       "      <td>4151800530</td>\n",
       "      <td>4</td>\n",
       "      <td>2.50</td>\n",
       "      <td>2780</td>\n",
       "      <td>6837</td>\n",
       "      <td>2.0</td>\n",
       "      <td>0</td>\n",
       "      <td>0</td>\n",
       "      <td>3</td>\n",
       "      <td>9</td>\n",
       "      <td>2780</td>\n",
       "      <td>0</td>\n",
       "      <td>2004</td>\n",
       "      <td>0</td>\n",
       "      <td>98033</td>\n",
       "      <td>47.6660</td>\n",
       "      <td>-122.201</td>\n",
       "      <td>1160</td>\n",
       "      <td>6837</td>\n",
       "      <td>1090000</td>\n",
       "    </tr>\n",
       "    <tr>\n",
       "      <th>18761</th>\n",
       "      <td>4147200040</td>\n",
       "      <td>5</td>\n",
       "      <td>2.25</td>\n",
       "      <td>3650</td>\n",
       "      <td>13068</td>\n",
       "      <td>1.0</td>\n",
       "      <td>0</td>\n",
       "      <td>0</td>\n",
       "      <td>4</td>\n",
       "      <td>10</td>\n",
       "      <td>1850</td>\n",
       "      <td>1800</td>\n",
       "      <td>1976</td>\n",
       "      <td>0</td>\n",
       "      <td>98040</td>\n",
       "      <td>47.5458</td>\n",
       "      <td>-122.231</td>\n",
       "      <td>2760</td>\n",
       "      <td>13927</td>\n",
       "      <td>1090000</td>\n",
       "    </tr>\n",
       "  </tbody>\n",
       "</table>\n",
       "<p>1246 rows × 20 columns</p>\n",
       "</div>"
      ],
      "text/plain": [
       "               id  bedrooms  bathrooms  sqft_living  sqft_lot  floors  \\\n",
       "7245   6762700020         6       8.00        12050     27600     2.5   \n",
       "3910   9808700762         5       4.50        10040     37325     2.0   \n",
       "9245   9208900037         6       7.75         9890     31374     2.0   \n",
       "4407   2470100110         5       5.75         9200     35069     2.0   \n",
       "1446   8907500070         5       5.00         8000     23985     2.0   \n",
       "...           ...       ...        ...          ...       ...     ...   \n",
       "15546  1326059182         5       3.25         5600    107157     2.0   \n",
       "5060   4385700660         3       1.50         2560      4000     1.5   \n",
       "12549  3760500730         4       2.75         3010     10830     2.0   \n",
       "8664   4151800530         4       2.50         2780      6837     2.0   \n",
       "18761  4147200040         5       2.25         3650     13068     1.0   \n",
       "\n",
       "       waterfront  view  condition  grade  sqft_above  sqft_basement  \\\n",
       "7245            0     3          4     13        8570           3480   \n",
       "3910            1     2          3     11        7680           2360   \n",
       "9245            0     4          3     13        8860           1030   \n",
       "4407            0     0          3     13        6200           3000   \n",
       "1446            0     4          3     12        6720           1280   \n",
       "...           ...   ...        ...    ...         ...            ...   \n",
       "15546           0     0          3     10        3440           2160   \n",
       "5060            0     0          5      8        1660            900   \n",
       "12549           0     3          4      9        3010              0   \n",
       "8664            0     0          3      9        2780              0   \n",
       "18761           0     0          4     10        1850           1800   \n",
       "\n",
       "       yr_built  yr_renovated  zipcode      lat     long  sqft_living15  \\\n",
       "7245       1910          1987    98102  47.6298 -122.323           3940   \n",
       "3910       1940          2001    98004  47.6500 -122.214           3930   \n",
       "9245       2001             0    98039  47.6305 -122.240           4540   \n",
       "4407       2001             0    98039  47.6289 -122.233           3560   \n",
       "1446       2009             0    98004  47.6232 -122.220           4600   \n",
       "...         ...           ...      ...      ...      ...            ...   \n",
       "15546      1988             0    98072  47.7341 -122.102           3470   \n",
       "5060       1927             0    98112  47.6384 -122.279           2560   \n",
       "12549      1980             0    98034  47.7005 -122.232           3010   \n",
       "8664       2004             0    98033  47.6660 -122.201           1160   \n",
       "18761      1976             0    98040  47.5458 -122.231           2760   \n",
       "\n",
       "       sqft_lot15    price  \n",
       "7245         8800  7700000  \n",
       "3910        25449  7060000  \n",
       "9245        42730  6890000  \n",
       "4407        24345  5570000  \n",
       "1446        21750  5350000  \n",
       "...           ...      ...  \n",
       "15546       75794  1090000  \n",
       "5060         4000  1090000  \n",
       "12549       10650  1090000  \n",
       "8664         6837  1090000  \n",
       "18761       13927  1090000  \n",
       "\n",
       "[1246 rows x 20 columns]"
      ]
     },
     "execution_count": 179,
     "metadata": {},
     "output_type": "execute_result"
    }
   ],
   "source": [
    "\n",
    "df[df['price'] > 2*df['price'].mean()]\n",
    " \n"
   ]
  },
  {
   "cell_type": "code",
   "execution_count": 180,
   "metadata": {},
   "outputs": [
    {
     "data": {
      "text/plain": [
       "bedrooms\n",
       "3    466276.590900\n",
       "4    635564.677129\n",
       "Name: price, dtype: float64"
      ]
     },
     "execution_count": 180,
     "metadata": {},
     "output_type": "execute_result"
    }
   ],
   "source": [
    "\n",
    "df[(df[\"bedrooms\"] == 3 ) | (df[\"bedrooms\"] == 4 )].groupby(\"bedrooms\").mean()[\"price\"]"
   ]
  },
  {
   "cell_type": "code",
   "execution_count": 181,
   "metadata": {},
   "outputs": [
    {
     "data": {
      "text/plain": [
       "array([98102, 98004, 98039, 98040, 98033, 98155, 98006, 98177, 98105,\n",
       "       98144, 98008, 98112, 98075, 98199, 98109, 98034, 98074, 98119,\n",
       "       98056, 98107, 98118, 98027, 98166, 98115, 98053, 98136, 98052,\n",
       "       98029, 98125, 98116, 98122, 98065, 98005, 98045, 98077, 98024,\n",
       "       98059, 98103, 98178, 98014, 98028, 98072, 98058, 98146, 98070,\n",
       "       98117, 98038, 98198, 98007, 98023, 98126, 98011, 98019, 98003,\n",
       "       98010, 98092, 98042, 98022, 98001, 98133, 98031, 98106, 98188,\n",
       "       98108, 98055, 98148, 98168, 98030, 98032, 98002], dtype=int64)"
      ]
     },
     "execution_count": 181,
     "metadata": {},
     "output_type": "execute_result"
    }
   ],
   "source": [
    "\n",
    "\n",
    "df['zipcode'].unique()"
   ]
  },
  {
   "cell_type": "code",
   "execution_count": 182,
   "metadata": {},
   "outputs": [
    {
     "data": {
      "text/html": [
       "<div>\n",
       "<style scoped>\n",
       "    .dataframe tbody tr th:only-of-type {\n",
       "        vertical-align: middle;\n",
       "    }\n",
       "\n",
       "    .dataframe tbody tr th {\n",
       "        vertical-align: top;\n",
       "    }\n",
       "\n",
       "    .dataframe thead th {\n",
       "        text-align: right;\n",
       "    }\n",
       "</style>\n",
       "<table border=\"1\" class=\"dataframe\">\n",
       "  <thead>\n",
       "    <tr style=\"text-align: right;\">\n",
       "      <th></th>\n",
       "      <th>id</th>\n",
       "      <th>bedrooms</th>\n",
       "      <th>bathrooms</th>\n",
       "      <th>sqft_living</th>\n",
       "      <th>sqft_lot</th>\n",
       "      <th>floors</th>\n",
       "      <th>waterfront</th>\n",
       "      <th>view</th>\n",
       "      <th>condition</th>\n",
       "      <th>grade</th>\n",
       "      <th>sqft_above</th>\n",
       "      <th>sqft_basement</th>\n",
       "      <th>yr_built</th>\n",
       "      <th>yr_renovated</th>\n",
       "      <th>zipcode</th>\n",
       "      <th>lat</th>\n",
       "      <th>long</th>\n",
       "      <th>sqft_living15</th>\n",
       "      <th>sqft_lot15</th>\n",
       "      <th>price</th>\n",
       "    </tr>\n",
       "  </thead>\n",
       "  <tbody>\n",
       "    <tr>\n",
       "      <th>7245</th>\n",
       "      <td>6762700020</td>\n",
       "      <td>6</td>\n",
       "      <td>8.00</td>\n",
       "      <td>12050</td>\n",
       "      <td>27600</td>\n",
       "      <td>2.5</td>\n",
       "      <td>0</td>\n",
       "      <td>3</td>\n",
       "      <td>4</td>\n",
       "      <td>13</td>\n",
       "      <td>8570</td>\n",
       "      <td>3480</td>\n",
       "      <td>1910</td>\n",
       "      <td>1987</td>\n",
       "      <td>98102</td>\n",
       "      <td>47.6298</td>\n",
       "      <td>-122.323</td>\n",
       "      <td>3940</td>\n",
       "      <td>8800</td>\n",
       "      <td>7700000</td>\n",
       "    </tr>\n",
       "    <tr>\n",
       "      <th>3910</th>\n",
       "      <td>9808700762</td>\n",
       "      <td>5</td>\n",
       "      <td>4.50</td>\n",
       "      <td>10040</td>\n",
       "      <td>37325</td>\n",
       "      <td>2.0</td>\n",
       "      <td>1</td>\n",
       "      <td>2</td>\n",
       "      <td>3</td>\n",
       "      <td>11</td>\n",
       "      <td>7680</td>\n",
       "      <td>2360</td>\n",
       "      <td>1940</td>\n",
       "      <td>2001</td>\n",
       "      <td>98004</td>\n",
       "      <td>47.6500</td>\n",
       "      <td>-122.214</td>\n",
       "      <td>3930</td>\n",
       "      <td>25449</td>\n",
       "      <td>7060000</td>\n",
       "    </tr>\n",
       "    <tr>\n",
       "      <th>8085</th>\n",
       "      <td>1924059029</td>\n",
       "      <td>5</td>\n",
       "      <td>6.75</td>\n",
       "      <td>9640</td>\n",
       "      <td>13068</td>\n",
       "      <td>1.0</td>\n",
       "      <td>1</td>\n",
       "      <td>4</td>\n",
       "      <td>3</td>\n",
       "      <td>12</td>\n",
       "      <td>4820</td>\n",
       "      <td>4820</td>\n",
       "      <td>1983</td>\n",
       "      <td>2009</td>\n",
       "      <td>98040</td>\n",
       "      <td>47.5570</td>\n",
       "      <td>-122.210</td>\n",
       "      <td>3270</td>\n",
       "      <td>10454</td>\n",
       "      <td>4670000</td>\n",
       "    </tr>\n",
       "    <tr>\n",
       "      <th>2862</th>\n",
       "      <td>4114601570</td>\n",
       "      <td>3</td>\n",
       "      <td>3.25</td>\n",
       "      <td>5020</td>\n",
       "      <td>12431</td>\n",
       "      <td>2.0</td>\n",
       "      <td>1</td>\n",
       "      <td>4</td>\n",
       "      <td>3</td>\n",
       "      <td>10</td>\n",
       "      <td>3420</td>\n",
       "      <td>1600</td>\n",
       "      <td>1941</td>\n",
       "      <td>2002</td>\n",
       "      <td>98144</td>\n",
       "      <td>47.5925</td>\n",
       "      <td>-122.287</td>\n",
       "      <td>3680</td>\n",
       "      <td>12620</td>\n",
       "      <td>3600000</td>\n",
       "    </tr>\n",
       "    <tr>\n",
       "      <th>10435</th>\n",
       "      <td>1118000320</td>\n",
       "      <td>4</td>\n",
       "      <td>4.00</td>\n",
       "      <td>4260</td>\n",
       "      <td>11765</td>\n",
       "      <td>2.0</td>\n",
       "      <td>0</td>\n",
       "      <td>0</td>\n",
       "      <td>3</td>\n",
       "      <td>11</td>\n",
       "      <td>3280</td>\n",
       "      <td>980</td>\n",
       "      <td>1939</td>\n",
       "      <td>2010</td>\n",
       "      <td>98112</td>\n",
       "      <td>47.6380</td>\n",
       "      <td>-122.288</td>\n",
       "      <td>4260</td>\n",
       "      <td>10408</td>\n",
       "      <td>3400000</td>\n",
       "    </tr>\n",
       "    <tr>\n",
       "      <th>...</th>\n",
       "      <td>...</td>\n",
       "      <td>...</td>\n",
       "      <td>...</td>\n",
       "      <td>...</td>\n",
       "      <td>...</td>\n",
       "      <td>...</td>\n",
       "      <td>...</td>\n",
       "      <td>...</td>\n",
       "      <td>...</td>\n",
       "      <td>...</td>\n",
       "      <td>...</td>\n",
       "      <td>...</td>\n",
       "      <td>...</td>\n",
       "      <td>...</td>\n",
       "      <td>...</td>\n",
       "      <td>...</td>\n",
       "      <td>...</td>\n",
       "      <td>...</td>\n",
       "      <td>...</td>\n",
       "      <td>...</td>\n",
       "    </tr>\n",
       "    <tr>\n",
       "      <th>19402</th>\n",
       "      <td>3163600076</td>\n",
       "      <td>1</td>\n",
       "      <td>1.00</td>\n",
       "      <td>1020</td>\n",
       "      <td>6871</td>\n",
       "      <td>1.0</td>\n",
       "      <td>0</td>\n",
       "      <td>0</td>\n",
       "      <td>3</td>\n",
       "      <td>6</td>\n",
       "      <td>1020</td>\n",
       "      <td>0</td>\n",
       "      <td>1937</td>\n",
       "      <td>1946</td>\n",
       "      <td>98146</td>\n",
       "      <td>47.5051</td>\n",
       "      <td>-122.338</td>\n",
       "      <td>1260</td>\n",
       "      <td>6933</td>\n",
       "      <td>152275</td>\n",
       "    </tr>\n",
       "    <tr>\n",
       "      <th>12971</th>\n",
       "      <td>9320900610</td>\n",
       "      <td>3</td>\n",
       "      <td>1.00</td>\n",
       "      <td>900</td>\n",
       "      <td>4770</td>\n",
       "      <td>1.0</td>\n",
       "      <td>0</td>\n",
       "      <td>0</td>\n",
       "      <td>3</td>\n",
       "      <td>6</td>\n",
       "      <td>900</td>\n",
       "      <td>0</td>\n",
       "      <td>1969</td>\n",
       "      <td>2009</td>\n",
       "      <td>98023</td>\n",
       "      <td>47.3038</td>\n",
       "      <td>-122.362</td>\n",
       "      <td>900</td>\n",
       "      <td>3480</td>\n",
       "      <td>146000</td>\n",
       "    </tr>\n",
       "    <tr>\n",
       "      <th>15526</th>\n",
       "      <td>3361400980</td>\n",
       "      <td>2</td>\n",
       "      <td>1.00</td>\n",
       "      <td>600</td>\n",
       "      <td>6120</td>\n",
       "      <td>1.0</td>\n",
       "      <td>0</td>\n",
       "      <td>0</td>\n",
       "      <td>3</td>\n",
       "      <td>5</td>\n",
       "      <td>600</td>\n",
       "      <td>0</td>\n",
       "      <td>1943</td>\n",
       "      <td>1989</td>\n",
       "      <td>98168</td>\n",
       "      <td>47.5000</td>\n",
       "      <td>-122.317</td>\n",
       "      <td>1090</td>\n",
       "      <td>6120</td>\n",
       "      <td>135000</td>\n",
       "    </tr>\n",
       "    <tr>\n",
       "      <th>2587</th>\n",
       "      <td>5061300030</td>\n",
       "      <td>2</td>\n",
       "      <td>1.50</td>\n",
       "      <td>980</td>\n",
       "      <td>5000</td>\n",
       "      <td>2.0</td>\n",
       "      <td>0</td>\n",
       "      <td>0</td>\n",
       "      <td>3</td>\n",
       "      <td>7</td>\n",
       "      <td>980</td>\n",
       "      <td>0</td>\n",
       "      <td>1922</td>\n",
       "      <td>2003</td>\n",
       "      <td>98014</td>\n",
       "      <td>47.7076</td>\n",
       "      <td>-121.359</td>\n",
       "      <td>1040</td>\n",
       "      <td>5000</td>\n",
       "      <td>134000</td>\n",
       "    </tr>\n",
       "    <tr>\n",
       "      <th>20946</th>\n",
       "      <td>1278000210</td>\n",
       "      <td>2</td>\n",
       "      <td>1.00</td>\n",
       "      <td>828</td>\n",
       "      <td>4524</td>\n",
       "      <td>1.0</td>\n",
       "      <td>0</td>\n",
       "      <td>0</td>\n",
       "      <td>3</td>\n",
       "      <td>6</td>\n",
       "      <td>828</td>\n",
       "      <td>0</td>\n",
       "      <td>1968</td>\n",
       "      <td>2007</td>\n",
       "      <td>98001</td>\n",
       "      <td>47.2655</td>\n",
       "      <td>-122.244</td>\n",
       "      <td>828</td>\n",
       "      <td>5402</td>\n",
       "      <td>110000</td>\n",
       "    </tr>\n",
       "  </tbody>\n",
       "</table>\n",
       "<p>914 rows × 20 columns</p>\n",
       "</div>"
      ],
      "text/plain": [
       "               id  bedrooms  bathrooms  sqft_living  sqft_lot  floors  \\\n",
       "7245   6762700020         6       8.00        12050     27600     2.5   \n",
       "3910   9808700762         5       4.50        10040     37325     2.0   \n",
       "8085   1924059029         5       6.75         9640     13068     1.0   \n",
       "2862   4114601570         3       3.25         5020     12431     2.0   \n",
       "10435  1118000320         4       4.00         4260     11765     2.0   \n",
       "...           ...       ...        ...          ...       ...     ...   \n",
       "19402  3163600076         1       1.00         1020      6871     1.0   \n",
       "12971  9320900610         3       1.00          900      4770     1.0   \n",
       "15526  3361400980         2       1.00          600      6120     1.0   \n",
       "2587   5061300030         2       1.50          980      5000     2.0   \n",
       "20946  1278000210         2       1.00          828      4524     1.0   \n",
       "\n",
       "       waterfront  view  condition  grade  sqft_above  sqft_basement  \\\n",
       "7245            0     3          4     13        8570           3480   \n",
       "3910            1     2          3     11        7680           2360   \n",
       "8085            1     4          3     12        4820           4820   \n",
       "2862            1     4          3     10        3420           1600   \n",
       "10435           0     0          3     11        3280            980   \n",
       "...           ...   ...        ...    ...         ...            ...   \n",
       "19402           0     0          3      6        1020              0   \n",
       "12971           0     0          3      6         900              0   \n",
       "15526           0     0          3      5         600              0   \n",
       "2587            0     0          3      7         980              0   \n",
       "20946           0     0          3      6         828              0   \n",
       "\n",
       "       yr_built  yr_renovated  zipcode      lat     long  sqft_living15  \\\n",
       "7245       1910          1987    98102  47.6298 -122.323           3940   \n",
       "3910       1940          2001    98004  47.6500 -122.214           3930   \n",
       "8085       1983          2009    98040  47.5570 -122.210           3270   \n",
       "2862       1941          2002    98144  47.5925 -122.287           3680   \n",
       "10435      1939          2010    98112  47.6380 -122.288           4260   \n",
       "...         ...           ...      ...      ...      ...            ...   \n",
       "19402      1937          1946    98146  47.5051 -122.338           1260   \n",
       "12971      1969          2009    98023  47.3038 -122.362            900   \n",
       "15526      1943          1989    98168  47.5000 -122.317           1090   \n",
       "2587       1922          2003    98014  47.7076 -121.359           1040   \n",
       "20946      1968          2007    98001  47.2655 -122.244            828   \n",
       "\n",
       "       sqft_lot15    price  \n",
       "7245         8800  7700000  \n",
       "3910        25449  7060000  \n",
       "8085        10454  4670000  \n",
       "2862        12620  3600000  \n",
       "10435       10408  3400000  \n",
       "...           ...      ...  \n",
       "19402        6933   152275  \n",
       "12971        3480   146000  \n",
       "15526        6120   135000  \n",
       "2587         5000   134000  \n",
       "20946        5402   110000  \n",
       "\n",
       "[914 rows x 20 columns]"
      ]
     },
     "execution_count": 182,
     "metadata": {},
     "output_type": "execute_result"
    }
   ],
   "source": [
    "\n",
    "\n",
    "df[df['yr_renovated'] > 0]\n"
   ]
  },
  {
   "cell_type": "code",
   "execution_count": 183,
   "metadata": {},
   "outputs": [
    {
     "data": {
      "text/plain": [
       "id               6.065300e+09\n",
       "bedrooms         5.000000e+00\n",
       "bathrooms        6.000000e+00\n",
       "sqft_living      7.440000e+03\n",
       "sqft_lot         2.154000e+04\n",
       "floors           2.000000e+00\n",
       "waterfront       0.000000e+00\n",
       "view             0.000000e+00\n",
       "condition        3.000000e+00\n",
       "grade            1.200000e+01\n",
       "sqft_above       5.550000e+03\n",
       "sqft_basement    1.890000e+03\n",
       "yr_built         2.003000e+03\n",
       "yr_renovated     0.000000e+00\n",
       "zipcode          9.800600e+04\n",
       "lat              4.756920e+01\n",
       "long            -1.221890e+02\n",
       "sqft_living15    4.740000e+03\n",
       "sqft_lot15       1.932900e+04\n",
       "price            4.210000e+06\n",
       "Name: 12358, dtype: float64"
      ]
     },
     "execution_count": 183,
     "metadata": {},
     "output_type": "execute_result"
    }
   ],
   "source": [
    "df.sort_values(by=['price'], ascending=False).iloc[10]\n"
   ]
  },
  {
   "cell_type": "code",
   "execution_count": null,
   "metadata": {},
   "outputs": [],
   "source": []
  }
 ],
 "metadata": {
  "kernelspec": {
   "display_name": "Python 3.10.0 64-bit",
   "language": "python",
   "name": "python3"
  },
  "language_info": {
   "codemirror_mode": {
    "name": "ipython",
    "version": 3
   },
   "file_extension": ".py",
   "mimetype": "text/x-python",
   "name": "python",
   "nbconvert_exporter": "python",
   "pygments_lexer": "ipython3",
   "version": "3.10.0"
  },
  "orig_nbformat": 4,
  "vscode": {
   "interpreter": {
    "hash": "0b68efdc46170d6c09df60c6e5c3ac1fd6e4d81b7dc57d0973e266a35e3256e4"
   }
  }
 },
 "nbformat": 4,
 "nbformat_minor": 2
}
